{
  "cells": [
    {
      "cell_type": "code",
      "execution_count": 651,
      "metadata": {
        "id": "nwJqp2JP9GKl"
      },
      "outputs": [],
      "source": [
        "import numpy as np\n",
        "import matplotlib.pyplot as plt\n",
        "from random import randint\n",
        "from matplotlib.colors import ListedColormap"
      ]
    },
    {
      "cell_type": "code",
      "source": [
        "!pip install scikit-learn"
      ],
      "metadata": {
        "colab": {
          "base_uri": "https://localhost:8080/"
        },
        "id": "RHrD-ToDId2w",
        "outputId": "1e45a004-3955-4147-d2a6-b912bcd98036"
      },
      "execution_count": 652,
      "outputs": [
        {
          "output_type": "stream",
          "name": "stdout",
          "text": [
            "Looking in indexes: https://pypi.org/simple, https://us-python.pkg.dev/colab-wheels/public/simple/\n",
            "Requirement already satisfied: scikit-learn in /usr/local/lib/python3.7/dist-packages (1.0.2)\n",
            "Requirement already satisfied: numpy>=1.14.6 in /usr/local/lib/python3.7/dist-packages (from scikit-learn) (1.21.6)\n",
            "Requirement already satisfied: joblib>=0.11 in /usr/local/lib/python3.7/dist-packages (from scikit-learn) (1.1.0)\n",
            "Requirement already satisfied: scipy>=1.1.0 in /usr/local/lib/python3.7/dist-packages (from scikit-learn) (1.4.1)\n",
            "Requirement already satisfied: threadpoolctl>=2.0.0 in /usr/local/lib/python3.7/dist-packages (from scikit-learn) (3.1.0)\n"
          ]
        }
      ]
    },
    {
      "cell_type": "code",
      "source": [
        "from sklearn.model_selection import train_test_split"
      ],
      "metadata": {
        "id": "EaqzxBMRImdS"
      },
      "execution_count": 653,
      "outputs": []
    },
    {
      "cell_type": "code",
      "execution_count": 654,
      "metadata": {
        "colab": {
          "base_uri": "https://localhost:8080/"
        },
        "id": "lparc5YO9GKt",
        "outputId": "7a3d78d6-85b2-49f2-bf60-9b96f1a2705f"
      },
      "outputs": [
        {
          "output_type": "execute_result",
          "data": {
            "text/plain": [
              "array([[84.96714153, 78.61735699, 86.47688538, 95.23029856, 77.65846625,\n",
              "        77.65863043, 95.79212816, 87.67434729, 75.30525614, 85.42560044,\n",
              "        75.36582307, 75.34270246, 82.41962272, 60.86719755, 62.75082167,\n",
              "        74.37712471, 69.8716888 , 83.14247333, 70.91975924, 65.87696299,\n",
              "        94.65648769, 77.742237  , 80.67528205, 65.75251814, 74.55617275,\n",
              "        81.1092259 , 68.49006423, 83.75698018, 73.9936131 , 77.0830625 ,\n",
              "        73.98293388, 98.52278185, 79.86502775, 69.42289071, 88.22544912,\n",
              "        67.7915635 , 82.08863595, 60.40329876, 66.71813951, 81.96861236,\n",
              "        87.3846658 , 81.71368281],\n",
              "       [48.26527576, 45.48344457, 27.82217014, 39.20233687, 43.09041844,\n",
              "        65.85683339, 55.15427434, 23.55439767, 54.86125954, 44.22376579,\n",
              "        39.84617   , 59.17514433, 65.46499284, 63.96920179, 37.41173715,\n",
              "        45.36181436, 54.96895147, 64.63317691, 42.81238643, 47.21511535,\n",
              "        33.40497539, 32.05690064, 62.18788734, 70.34360043, 48.91984818,\n",
              "        65.05299347, 55.42454038, 40.32320368, 55.42093408, 73.0705485 ,\n",
              "        49.46260941, 73.46965484, 10.70382344, 62.32853757, 51.30570602,\n",
              "        45.51488974, 51.37641165, 20.18646628, 46.70492168, 55.35668857,\n",
              "        72.16841067, 42.22594673]])"
            ]
          },
          "metadata": {},
          "execution_count": 654
        }
      ],
      "source": [
        "# a = [[randint(60, 100), randint(0, 100)] for i in range(42)]\n",
        "# b = [[randint(0, 60), randint(0, 60)] for i in range(42)]\n",
        "\n",
        "# k1 = np.array(a)\n",
        "# k2 = np.array(b)\n",
        "\n",
        "# x1 = [randint(70, 100) for i in range(42)]\n",
        "# y1 = [randint(0, 100) for i in range(42)]\n",
        "\n",
        "# x2 = [randint(0, 50) for i in range(42)]\n",
        "# y2 = [randint(0, 45) for i in range(42)]\n",
        "\n",
        "\n",
        "rgen = np.random.RandomState(42)\n",
        "\n",
        "x1 = rgen.normal(loc=80.0, scale=10.0, size=42)\n",
        "y1 = rgen.normal(loc=50.0, scale=15.0, size=42)\n",
        "\n",
        "x2 = rgen.normal(loc=30.0, scale=8.0, size=42)\n",
        "y2 = rgen.normal(loc=30.0, scale=8.0, size=42)\n",
        "\n",
        "\n",
        "k1 = np.array([x1, y1])\n",
        "k2 = np.array([x2, y2])\n",
        "\n",
        "k1"
      ]
    },
    {
      "cell_type": "code",
      "execution_count": 655,
      "metadata": {
        "colab": {
          "base_uri": "https://localhost:8080/",
          "height": 265
        },
        "id": "d628LznB9GKw",
        "outputId": "514483c9-b575-4cbd-aa9f-8ab387341f54"
      },
      "outputs": [
        {
          "output_type": "display_data",
          "data": {
            "text/plain": [
              "<Figure size 432x288 with 1 Axes>"
            ],
            "image/png": "[encoded data removed]"
          },
          "metadata": {
            "needs_background": "light"
          }
        }
      ],
      "source": [
        "plt.scatter(k2[0], k2[1], color='yellow', marker='o', label='class 2')\n",
        "plt.scatter(k1[0], k1[1], color='black', marker='o', label='class 1')\n",
        "plt.show()"
      ]
    },
    {
      "cell_type": "code",
      "execution_count": 656,
      "metadata": {
        "id": "ktdHfknn9GKx"
      },
      "outputs": [],
      "source": [
        "class Perceptron:\n",
        "    def __init__(self, eta=0.1, n_iter=50, random_state=100):\n",
        "        self.eta = eta\n",
        "        self.n_iter = n_iter\n",
        "        self.random_state = random_state\n",
        "    def fit(self, X, y):\n",
        "        rgen = np.random.RandomState(self.random_state)\n",
        "        self.w_ = rgen.normal(loc=0.0, scale=0.01, size=1 + X.shape[1])\n",
        "        self.errors_ = []\n",
        "        print(self.w_.shape)\n",
        "\n",
        "        for i in range(self.n_iter):\n",
        "            errors = 0\n",
        "            for xi, target in zip(X, y):\n",
        "                update = self.eta * (target - self.predict(xi))\n",
        "                self.w_[1:] += update * xi\n",
        "                self.w_[0] += update\n",
        "                errors += int(update != 0.0)\n",
        "            self.errors_.append(errors)\n",
        "\n",
        "    def net_input(self, X):\n",
        "        return np.dot(X, self.w_[1:]) + self.w_[0]\n",
        "\n",
        "    def predict(self, X):\n",
        "        return np.where(self.net_input(X) >= 0, 1, -1)"
      ]
    },
    {
      "cell_type": "code",
      "execution_count": 657,
      "metadata": {
        "colab": {
          "base_uri": "https://localhost:8080/"
        },
        "id": "IRiLF7_U9GKz",
        "outputId": "e3325b92-137c-453a-b5ae-481fd319fa2e"
      },
      "outputs": [
        {
          "output_type": "stream",
          "name": "stdout",
          "text": [
            "[[84.96714153 78.61735699 86.47688538 95.23029856 77.65846625 77.65863043\n",
            "  95.79212816 87.67434729 75.30525614 85.42560044 75.36582307 75.34270246\n",
            "  82.41962272 60.86719755 62.75082167 74.37712471 69.8716888  83.14247333\n",
            "  70.91975924 65.87696299 94.65648769 77.742237   80.67528205 65.75251814\n",
            "  74.55617275 81.1092259  68.49006423 83.75698018 73.9936131  77.0830625\n",
            "  73.98293388 98.52278185 79.86502775 69.42289071 88.22544912 67.7915635\n",
            "  82.08863595 60.40329876 66.71813951 81.96861236 87.3846658  81.71368281]\n",
            " [48.26527576 45.48344457 27.82217014 39.20233687 43.09041844 65.85683339\n",
            "  55.15427434 23.55439767 54.86125954 44.22376579 39.84617    59.17514433\n",
            "  65.46499284 63.96920179 37.41173715 45.36181436 54.96895147 64.63317691\n",
            "  42.81238643 47.21511535 33.40497539 32.05690064 62.18788734 70.34360043\n",
            "  48.91984818 65.05299347 55.42454038 40.32320368 55.42093408 73.0705485\n",
            "  49.46260941 73.46965484 10.70382344 62.32853757 51.30570602 45.51488974\n",
            "  51.37641165 20.18646628 46.70492168 55.35668857 72.16841067 42.22594673]]\n",
            "[[84.96714153 48.26527576]\n",
            " [78.61735699 45.48344457]\n",
            " [86.47688538 27.82217014]\n",
            " [95.23029856 39.20233687]\n",
            " [77.65846625 43.09041844]\n",
            " [77.65863043 65.85683339]\n",
            " [95.79212816 55.15427434]\n",
            " [87.67434729 23.55439767]\n",
            " [75.30525614 54.86125954]\n",
            " [85.42560044 44.22376579]\n",
            " [75.36582307 39.84617   ]\n",
            " [75.34270246 59.17514433]\n",
            " [82.41962272 65.46499284]\n",
            " [60.86719755 63.96920179]\n",
            " [62.75082167 37.41173715]\n",
            " [74.37712471 45.36181436]\n",
            " [69.8716888  54.96895147]\n",
            " [83.14247333 64.63317691]\n",
            " [70.91975924 42.81238643]\n",
            " [65.87696299 47.21511535]\n",
            " [94.65648769 33.40497539]\n",
            " [77.742237   32.05690064]\n",
            " [80.67528205 62.18788734]\n",
            " [65.75251814 70.34360043]\n",
            " [74.55617275 48.91984818]\n",
            " [81.1092259  65.05299347]\n",
            " [68.49006423 55.42454038]\n",
            " [83.75698018 40.32320368]\n",
            " [73.9936131  55.42093408]\n",
            " [77.0830625  73.0705485 ]\n",
            " [73.98293388 49.46260941]\n",
            " [98.52278185 73.46965484]\n",
            " [79.86502775 10.70382344]\n",
            " [69.42289071 62.32853757]\n",
            " [88.22544912 51.30570602]\n",
            " [67.7915635  45.51488974]\n",
            " [82.08863595 51.37641165]\n",
            " [60.40329876 20.18646628]\n",
            " [66.71813951 46.70492168]\n",
            " [81.96861236 55.35668857]\n",
            " [87.3846658  72.16841067]\n",
            " [81.71368281 42.22594673]]\n"
          ]
        }
      ],
      "source": [
        "print(k1)\n",
        "print(k1.T)"
      ]
    },
    {
      "cell_type": "code",
      "execution_count": 658,
      "metadata": {
        "id": "ffDVPwrl9GK0"
      },
      "outputs": [],
      "source": [
        "k1 = k1.T\n",
        "k2 = k2.T"
      ]
    },
    {
      "cell_type": "code",
      "execution_count": 659,
      "metadata": {
        "id": "Pzhdp91q9GK1"
      },
      "outputs": [],
      "source": [
        "X = np.zeros((84, 2))\n",
        "X[:42] = k1\n",
        "X[42:] = k2\n",
        "\n",
        "X /= 100"
      ]
    },
    {
      "cell_type": "code",
      "execution_count": 660,
      "metadata": {
        "colab": {
          "base_uri": "https://localhost:8080/"
        },
        "id": "eP0usEbz9GK2",
        "outputId": "2b1533b1-aac0-4dfd-8189-13a68fe2f9c3"
      },
      "outputs": [
        {
          "output_type": "execute_result",
          "data": {
            "text/plain": [
              "array([-1, -1, -1, -1, -1, -1, -1, -1, -1, -1, -1, -1, -1, -1, -1, -1, -1,\n",
              "       -1, -1, -1, -1, -1, -1, -1, -1, -1, -1, -1, -1, -1, -1, -1, -1, -1,\n",
              "       -1, -1, -1, -1, -1, -1, -1, -1,  1,  1,  1,  1,  1,  1,  1,  1,  1,\n",
              "        1,  1,  1,  1,  1,  1,  1,  1,  1,  1,  1,  1,  1,  1,  1,  1,  1,\n",
              "        1,  1,  1,  1,  1,  1,  1,  1,  1,  1,  1,  1,  1,  1,  1,  1])"
            ]
          },
          "metadata": {},
          "execution_count": 660
        }
      ],
      "source": [
        "y = np.ones((84), dtype=int)\n",
        "y[:42] = -1\n",
        "y"
      ]
    },
    {
      "cell_type": "code",
      "source": [
        "rgen = np.random.RandomState(1)\n",
        "X_train, X_test, y_train, y_test = train_test_split(X, y, test_size=0.3, random_state = 1, stratify=y)\n",
        "y_train"
      ],
      "metadata": {
        "colab": {
          "base_uri": "https://localhost:8080/"
        },
        "id": "P4Ka5a_AISDK",
        "outputId": "7a5fb7dc-7582-41e5-fe1a-eff6eccba483"
      },
      "execution_count": 661,
      "outputs": [
        {
          "output_type": "execute_result",
          "data": {
            "text/plain": [
              "array([-1,  1,  1, -1, -1,  1, -1,  1,  1, -1,  1,  1,  1,  1,  1, -1,  1,\n",
              "       -1, -1,  1,  1,  1, -1, -1, -1,  1,  1, -1,  1,  1, -1,  1, -1, -1,\n",
              "       -1,  1, -1, -1,  1, -1, -1, -1, -1,  1, -1,  1,  1,  1, -1, -1, -1,\n",
              "        1,  1, -1, -1, -1,  1,  1])"
            ]
          },
          "metadata": {},
          "execution_count": 661
        }
      ]
    },
    {
      "cell_type": "code",
      "execution_count": 662,
      "metadata": {
        "id": "gz0x0moD9GK3"
      },
      "outputs": [],
      "source": [
        "rgen = np.random.RandomState(1)\n",
        "\n",
        "# rgen.shuffle(X)\n",
        "# rgen.shuffle(y)\n",
        "\n",
        "# print(X)\n",
        "# print('_____')\n",
        "#q = list(zip(X, y))\n",
        "# print(q)\n",
        "#rgen.shuffle(q)\n",
        "# print(q)\n",
        "#X, y = zip(*q)\n",
        "#X = np.array(X)\n",
        "#y = np.array(y)"
      ]
    },
    {
      "cell_type": "code",
      "execution_count": 663,
      "metadata": {
        "colab": {
          "base_uri": "https://localhost:8080/"
        },
        "id": "_OIkANgl9GK5",
        "outputId": "920f1e35-f540-4fca-a696-75de73b47587"
      },
      "outputs": [
        {
          "output_type": "stream",
          "name": "stdout",
          "text": [
            "(3,)\n"
          ]
        }
      ],
      "source": [
        "ppn = Perceptron(n_iter=2)\n",
        "ppn.fit(X_train, y_train)"
      ]
    },
    {
      "cell_type": "code",
      "execution_count": 664,
      "metadata": {
        "colab": {
          "base_uri": "https://localhost:8080/",
          "height": 265
        },
        "id": "kFOE4zKy9GK6",
        "outputId": "23c21942-0a01-4e6a-eac6-ac5b33cb7fd2"
      },
      "outputs": [
        {
          "output_type": "display_data",
          "data": {
            "text/plain": [
              "<Figure size 432x288 with 1 Axes>"
            ],
            "image/png": "[encoded data removed]"
          },
          "metadata": {
            "needs_background": "light"
          }
        }
      ],
      "source": [
        "plt.plot(range(1, len(ppn.errors_) + 1), ppn.errors_)\n",
        "plt.show()"
      ]
    },
    {
      "cell_type": "code",
      "execution_count": 664,
      "metadata": {
        "id": "I2-4XN729GK6"
      },
      "outputs": [],
      "source": [
        ""
      ]
    },
    {
      "cell_type": "code",
      "execution_count": 665,
      "metadata": {
        "colab": {
          "base_uri": "https://localhost:8080/",
          "height": 265
        },
        "id": "pJfAk1S59GK7",
        "outputId": "2d1a4bd7-13f6-408f-b51c-57617e1999a9"
      },
      "outputs": [
        {
          "output_type": "display_data",
          "data": {
            "text/plain": [
              "<Figure size 432x288 with 1 Axes>"
            ],
            "image/png": "[encoded data removed]"
          },
          "metadata": {
            "needs_background": "light"
          }
        }
      ],
      "source": [
        "x1_min, x1_max = 0, 100\n",
        "x2_min, x2_max = 0, 100\n",
        "resol = 0.01\n",
        "\n",
        "cmap = ListedColormap(['blue', 'red'])\n",
        "k1 = k1.T\n",
        "k2 = k2.T\n",
        "\n",
        "xx1, xx2 = np.meshgrid(\n",
        "    np.arange(x1_min, x1_max, resol),\n",
        "    np.arange(x2_min, x2_max, resol)\n",
        ")\n",
        "\n",
        "\n",
        "Z = ppn.predict(\n",
        "    np.array([xx1.ravel(), xx2.ravel()]).T\n",
        ")\n",
        "\n",
        "Z = Z.reshape(xx1.shape)\n",
        "\n",
        "plt.contourf(xx1, xx2, Z, alpha=0.3, cmap=cmap)\n",
        "plt.scatter(k2[0], k2[1], color='yellow', marker='o', label='class 2')\n",
        "plt.scatter(k1[0], k1[1], color='black', marker='o', label='class 1')\n",
        "plt.show()"
      ]
    }
  ],
  "metadata": {
    "kernelspec": {
      "display_name": "Python 3.10.2 ('venv': venv)",
      "language": "python",
      "name": "python3"
    },
    "language_info": {
      "codemirror_mode": {
        "name": "ipython",
        "version": 3
      },
      "file_extension": ".py",
      "mimetype": "text/x-python",
      "name": "python",
      "nbconvert_exporter": "python",
      "pygments_lexer": "ipython3",
      "version": "3.10.2"
    },
    "orig_nbformat": 4,
    "vscode": {
      "interpreter": {
        "hash": "4aca860ff88a36166c47b9a40d7585e7a74556f01fdc7d6d44616d47d558a926"
      }
    },
    "colab": {
      "name": "perceptron.ipynb",
      "provenance": [],
      "collapsed_sections": [],
      "toc_visible": true
    },
    "accelerator": "GPU",
    "gpuClass": "standard"
  },
  "nbformat": 4,
  "nbformat_minor": 0
}