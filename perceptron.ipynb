{
 "cells": [
  {
   "cell_type": "code",
   "execution_count": 22,
   "metadata": {},
   "outputs": [],
   "source": [
    "import numpy as np\n",
    "import matplotlib.pyplot as plt\n",
    "from random import randint\n",
    "from matplotlib.colors import ListedColormap"
   ]
  },
  {
   "cell_type": "code",
   "execution_count": 23,
   "metadata": {},
   "outputs": [
    {
     "data": {
      "text/plain": [
       "array([[ 71.51990524,  93.05906358,  89.24207966,  86.40411801,\n",
       "         69.45263017,  97.97760715,  69.8721325 ,  88.23623324,\n",
       "         77.05349647,  74.07529428,  66.06272941,  91.04179672,\n",
       "         70.67659714,  70.56843563,  84.36606232,  87.9495827 ,\n",
       "         87.19533153,  80.87662257,  66.77251594,  80.51793979,\n",
       "         61.65204742,  83.27496473,  84.76237234,  81.68428646,\n",
       "         71.37588669,  89.07444498,  84.22889373,  57.87571047,\n",
       "         63.45794259,  83.21375264,  75.37325646,  69.19249795,\n",
       "         76.8622586 ,  69.82148113,  84.994227  ,  79.70053759,\n",
       "         80.47090105,  68.29141238,  60.87472709,  82.7154222 ,\n",
       "         83.22065299,  68.68999841],\n",
       "       [ 53.9465285 ,  26.9900611 ,  31.35225303,  44.89467276,\n",
       "         99.15962055,  70.5836528 ,  23.56290049,  63.77623415,\n",
       "         56.85308126,  59.18241161,  54.89723336,  47.16178234,\n",
       "         -2.22317653,  26.5133863 ,  56.89618462,  60.69017143,\n",
       "         60.41865831,  57.54384784,   2.0834059 ,  45.49818595,\n",
       "         81.74110331, -14.39206781,  63.94215533, 109.72552245,\n",
       "         51.57556901,  57.38017173,  73.54485088,  49.31131177,\n",
       "         75.52330267,  -6.15127166,  39.8193628 , 104.79281421,\n",
       "        100.17744349,  85.7286798 ,  77.23527434,  30.32322654,\n",
       "         48.10198123,  78.84461999,  59.71859872,  71.93206086,\n",
       "         84.7776754 ,  55.85819301]])"
      ]
     },
     "execution_count": 23,
     "metadata": {},
     "output_type": "execute_result"
    }
   ],
   "source": [
    "# a = [[randint(60, 100), randint(0, 100)] for i in range(42)]\n",
    "# b = [[randint(0, 60), randint(0, 60)] for i in range(42)]\n",
    "\n",
    "# k1 = np.array(a)\n",
    "# k2 = np.array(b)\n",
    "\n",
    "# x1 = [randint(70, 100) for i in range(42)]\n",
    "# y1 = [randint(0, 100) for i in range(42)]\n",
    "\n",
    "# x2 = [randint(0, 50) for i in range(42)]\n",
    "# y2 = [randint(0, 45) for i in range(42)]\n",
    "\n",
    "\n",
    "rgen = np.random.RandomState(47)\n",
    "\n",
    "x1 = rgen.normal(loc=80.0, scale=10.0, size=42)\n",
    "y1 = rgen.normal(loc=50.0, scale=25.0, size=42)\n",
    "\n",
    "x2 = rgen.normal(loc=30.0, scale=8.0, size=42)\n",
    "y2 = rgen.normal(loc=30.0, scale=8.0, size=42)\n",
    "\n",
    "\n",
    "k1 = np.array([x1, y1])\n",
    "k2 = np.array([x2, y2])\n",
    "\n",
    "k1"
   ]
  },
  {
   "cell_type": "code",
   "execution_count": 24,
   "metadata": {},
   "outputs": [
    {
     "data": {
      "image/png": "[encoded data removed]",
      "text/plain": [
       "<Figure size 432x288 with 1 Axes>"
      ]
     },
     "metadata": {
      "needs_background": "light"
     },
     "output_type": "display_data"
    }
   ],
   "source": [
    "plt.scatter(k2[0], k2[1], color='yellow', marker='o', label='class 2')\n",
    "plt.scatter(k1[0], k1[1], color='black', marker='o', label='class 1')\n",
    "plt.show()"
   ]
  },
  {
   "cell_type": "code",
   "execution_count": 25,
   "metadata": {},
   "outputs": [],
   "source": [
    "class Perceptron:\n",
    "    def __init__(self, eta=0.01, n_iter=50, random_state=1):\n",
    "        self.eta = eta\n",
    "        self.n_iter = n_iter\n",
    "        self.random_state = random_state\n",
    "    def fit(self, X, y):\n",
    "        rgen = np.random.RandomState(self.random_state)\n",
    "        self.w_ = rgen.normal(loc=0.0, scale=0.01, size=1 + X.shape[1])\n",
    "        self.errors_ = []\n",
    "        print(self.w_.shape)\n",
    "\n",
    "        for i in range(self.n_iter):\n",
    "            errors = 0\n",
    "            for xi, target in zip(X, y):\n",
    "                update = self.eta * (target - self.predict(xi))\n",
    "                self.w_[1:] += update * xi\n",
    "                self.w_[0] += update\n",
    "                errors += int(update != 0.0)\n",
    "            self.errors_.append(errors)\n",
    "\n",
    "    def net_input(self, X):\n",
    "        return np.dot(X, self.w_[1:]) + self.w_[0]\n",
    "\n",
    "    def predict(self, X):\n",
    "        return np.where(self.net_input(X) >= 0, 1, -1)"
   ]
  },
  {
   "cell_type": "code",
   "execution_count": 26,
   "metadata": {},
   "outputs": [
    {
     "name": "stdout",
     "output_type": "stream",
     "text": [
      "[[ 71.51990524  93.05906358  89.24207966  86.40411801  69.45263017\n",
      "   97.97760715  69.8721325   88.23623324  77.05349647  74.07529428\n",
      "   66.06272941  91.04179672  70.67659714  70.56843563  84.36606232\n",
      "   87.9495827   87.19533153  80.87662257  66.77251594  80.51793979\n",
      "   61.65204742  83.27496473  84.76237234  81.68428646  71.37588669\n",
      "   89.07444498  84.22889373  57.87571047  63.45794259  83.21375264\n",
      "   75.37325646  69.19249795  76.8622586   69.82148113  84.994227\n",
      "   79.70053759  80.47090105  68.29141238  60.87472709  82.7154222\n",
      "   83.22065299  68.68999841]\n",
      " [ 53.9465285   26.9900611   31.35225303  44.89467276  99.15962055\n",
      "   70.5836528   23.56290049  63.77623415  56.85308126  59.18241161\n",
      "   54.89723336  47.16178234  -2.22317653  26.5133863   56.89618462\n",
      "   60.69017143  60.41865831  57.54384784   2.0834059   45.49818595\n",
      "   81.74110331 -14.39206781  63.94215533 109.72552245  51.57556901\n",
      "   57.38017173  73.54485088  49.31131177  75.52330267  -6.15127166\n",
      "   39.8193628  104.79281421 100.17744349  85.7286798   77.23527434\n",
      "   30.32322654  48.10198123  78.84461999  59.71859872  71.93206086\n",
      "   84.7776754   55.85819301]]\n",
      "[[ 71.51990524  53.9465285 ]\n",
      " [ 93.05906358  26.9900611 ]\n",
      " [ 89.24207966  31.35225303]\n",
      " [ 86.40411801  44.89467276]\n",
      " [ 69.45263017  99.15962055]\n",
      " [ 97.97760715  70.5836528 ]\n",
      " [ 69.8721325   23.56290049]\n",
      " [ 88.23623324  63.77623415]\n",
      " [ 77.05349647  56.85308126]\n",
      " [ 74.07529428  59.18241161]\n",
      " [ 66.06272941  54.89723336]\n",
      " [ 91.04179672  47.16178234]\n",
      " [ 70.67659714  -2.22317653]\n",
      " [ 70.56843563  26.5133863 ]\n",
      " [ 84.36606232  56.89618462]\n",
      " [ 87.9495827   60.69017143]\n",
      " [ 87.19533153  60.41865831]\n",
      " [ 80.87662257  57.54384784]\n",
      " [ 66.77251594   2.0834059 ]\n",
      " [ 80.51793979  45.49818595]\n",
      " [ 61.65204742  81.74110331]\n",
      " [ 83.27496473 -14.39206781]\n",
      " [ 84.76237234  63.94215533]\n",
      " [ 81.68428646 109.72552245]\n",
      " [ 71.37588669  51.57556901]\n",
      " [ 89.07444498  57.38017173]\n",
      " [ 84.22889373  73.54485088]\n",
      " [ 57.87571047  49.31131177]\n",
      " [ 63.45794259  75.52330267]\n",
      " [ 83.21375264  -6.15127166]\n",
      " [ 75.37325646  39.8193628 ]\n",
      " [ 69.19249795 104.79281421]\n",
      " [ 76.8622586  100.17744349]\n",
      " [ 69.82148113  85.7286798 ]\n",
      " [ 84.994227    77.23527434]\n",
      " [ 79.70053759  30.32322654]\n",
      " [ 80.47090105  48.10198123]\n",
      " [ 68.29141238  78.84461999]\n",
      " [ 60.87472709  59.71859872]\n",
      " [ 82.7154222   71.93206086]\n",
      " [ 83.22065299  84.7776754 ]\n",
      " [ 68.68999841  55.85819301]]\n"
     ]
    }
   ],
   "source": [
    "print(k1)\n",
    "print(k1.T)"
   ]
  },
  {
   "cell_type": "code",
   "execution_count": 27,
   "metadata": {},
   "outputs": [],
   "source": [
    "k1 = k1.T\n",
    "k2 = k2.T"
   ]
  },
  {
   "cell_type": "code",
   "execution_count": 28,
   "metadata": {},
   "outputs": [],
   "source": [
    "X = np.zeros((84, 2))\n",
    "X[:42] = k1\n",
    "X[42:] = k2\n",
    "\n",
    "X /= 100"
   ]
  },
  {
   "cell_type": "code",
   "execution_count": 29,
   "metadata": {},
   "outputs": [
    {
     "data": {
      "text/plain": [
       "array([-1, -1, -1, -1, -1, -1, -1, -1, -1, -1, -1, -1, -1, -1, -1, -1, -1,\n",
       "       -1, -1, -1, -1, -1, -1, -1, -1, -1, -1, -1, -1, -1, -1, -1, -1, -1,\n",
       "       -1, -1, -1, -1, -1, -1, -1, -1,  1,  1,  1,  1,  1,  1,  1,  1,  1,\n",
       "        1,  1,  1,  1,  1,  1,  1,  1,  1,  1,  1,  1,  1,  1,  1,  1,  1,\n",
       "        1,  1,  1,  1,  1,  1,  1,  1,  1,  1,  1,  1,  1,  1,  1,  1])"
      ]
     },
     "execution_count": 29,
     "metadata": {},
     "output_type": "execute_result"
    }
   ],
   "source": [
    "y = np.ones((84), dtype=int)\n",
    "y[:42] = -1\n",
    "y"
   ]
  },
  {
   "cell_type": "code",
   "execution_count": 30,
   "metadata": {},
   "outputs": [],
   "source": [
    "rgen = np.random.RandomState(1)\n",
    "rgen.shuffle(X)\n",
    "rgen.shuffle(y)"
   ]
  },
  {
   "cell_type": "code",
   "execution_count": 31,
   "metadata": {},
   "outputs": [
    {
     "name": "stdout",
     "output_type": "stream",
     "text": [
      "(3,)\n"
     ]
    }
   ],
   "source": [
    "ppn = Perceptron()\n",
    "ppn.fit(X, y)"
   ]
  },
  {
   "cell_type": "code",
   "execution_count": 32,
   "metadata": {},
   "outputs": [
    {
     "data": {
      "image/png": "[encoded data removed]",
      "text/plain": [
       "<Figure size 432x288 with 1 Axes>"
      ]
     },
     "metadata": {
      "needs_background": "light"
     },
     "output_type": "display_data"
    }
   ],
   "source": [
    "plt.plot(range(1, len(ppn.errors_) + 1), ppn.errors_)\n",
    "plt.show()"
   ]
  },
  {
   "cell_type": "code",
   "execution_count": 33,
   "metadata": {},
   "outputs": [],
   "source": [
    "x1_min, x1_max = 0, 100\n",
    "x2_min, x2_max = 0, 100\n",
    "resol = 0.01 \n",
    "\n",
    "cmap = ListedColormap(['red', 'blue'])\n",
    "k1 = k1.T\n",
    "k2 = k2.T\n",
    "\n",
    "xx1, xx2 = np.meshgrid(\n",
    "    np.arange(x1_min, x1_max, resol),\n",
    "    np.arange(x2_min, x2_max, resol)\n",
    ")\n",
    "\n",
    "Z = ppn.predict(\n",
    "    np.array([xx1.ravel(), xx2.ravel()]).T\n",
    ")\n",
    "\n",
    "Z = Z.reshape(xx1.shape)\n",
    "\n",
    "plt.contourf(xx1, xx2, Z, alpha=0.3)\n",
    "plt.scatter(k2[0], k2[1], color='yellow', marker='o', label='class 2')\n",
    "plt.scatter(k1[0], k1[1], color='black', marker='o', label='class 1')\n",
    "plt.show()"
   ]
  }
 ],
 "metadata": {
  "kernelspec": {
   "display_name": "Python 3.10.2 ('venv': venv)",
   "language": "python",
   "name": "python3"
  },
  "language_info": {
   "codemirror_mode": {
    "name": "ipython",
    "version": 3
   },
   "file_extension": ".py",
   "mimetype": "text/x-python",
   "name": "python",
   "nbconvert_exporter": "python",
   "pygments_lexer": "ipython3",
   "version": "3.10.2"
  },
  "orig_nbformat": 4,
  "vscode": {
   "interpreter": {
    "hash": "4aca860ff88a36166c47b9a40d7585e7a74556f01fdc7d6d44616d47d558a926"
   }
  }
 },
 "nbformat": 4,
 "nbformat_minor": 2
}
