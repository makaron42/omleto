{
  "nbformat": 4,
  "nbformat_minor": 0,
  "metadata": {
    "colab": {
      "name": "Untitled0.ipynb",
      "provenance": [],
      "collapsed_sections": []
    },
    "kernelspec": {
      "name": "python3",
      "display_name": "Python 3"
    },
    "language_info": {
      "name": "python"
    },
    "accelerator": "GPU",
    "gpuClass": "standard"
  },
  "cells": [
    {
      "cell_type": "code",
      "execution_count": 1,
      "metadata": {
        "id": "df71ff97"
      },
      "outputs": [],
      "source": [
        "import numpy as np\n",
        "import matplotlib.pyplot as plt\n",
        "from random import randint"
      ]
    },
    {
      "cell_type": "code",
      "execution_count": 2,
      "metadata": {
        "id": "UfRHSiKh5Oo9"
      },
      "outputs": [],
      "source": [
        "from matplotlib.colors import ListedColormap"
      ]
    },
    {
      "cell_type": "code",
      "execution_count": 3,
      "metadata": {
        "id": "e2ffd770",
        "outputId": "417c718f-b90f-4f6f-b906-ae9e6ffff61d",
        "colab": {
          "base_uri": "https://localhost:8080/"
        }
      },
      "outputs": [
        {
          "output_type": "stream",
          "name": "stdout",
          "text": [
            "Looking in indexes: https://pypi.org/simple, https://us-python.pkg.dev/colab-wheels/public/simple/\n",
            "Requirement already satisfied: scikit-learn in /usr/local/lib/python3.7/dist-packages (1.0.2)\n",
            "Requirement already satisfied: numpy>=1.14.6 in /usr/local/lib/python3.7/dist-packages (from scikit-learn) (1.21.6)\n",
            "Requirement already satisfied: threadpoolctl>=2.0.0 in /usr/local/lib/python3.7/dist-packages (from scikit-learn) (3.1.0)\n",
            "Requirement already satisfied: scipy>=1.1.0 in /usr/local/lib/python3.7/dist-packages (from scikit-learn) (1.7.3)\n",
            "Requirement already satisfied: joblib>=0.11 in /usr/local/lib/python3.7/dist-packages (from scikit-learn) (1.1.0)\n"
          ]
        }
      ],
      "source": [
        "!pip install scikit-learn"
      ]
    },
    {
      "cell_type": "code",
      "execution_count": 4,
      "metadata": {
        "id": "ed6a9553"
      },
      "outputs": [],
      "source": [
        "from sklearn.model_selection import train_test_split"
      ]
    },
    {
      "cell_type": "code",
      "execution_count": 4,
      "metadata": {
        "id": "d4a7f24d"
      },
      "outputs": [],
      "source": [
        ""
      ]
    },
    {
      "cell_type": "code",
      "execution_count": 5,
      "metadata": {
        "id": "896e39f3"
      },
      "outputs": [],
      "source": [
        "rgen = np.random.RandomState(1)\n",
        "\n",
        "x1 = rgen.normal(loc=50.0,scale=10.0, size= 42)\n",
        "y1 = rgen.normal(loc=50.0,scale=18.0, size= 42)\n",
        "\n",
        "x2 = rgen.normal(loc=30.0,scale=8.0, size= 42)\n",
        "y2 = rgen.normal(loc=30.0,scale=8.0, size= 42)\n",
        "k1 = np.array([x1, y1])\n",
        "k2 = np.array([x2, y2])\n"
      ]
    },
    {
      "cell_type": "code",
      "execution_count": 6,
      "metadata": {
        "id": "6b675492",
        "outputId": "9fae983e-ea45-4bc4-888a-49b901926858",
        "colab": {
          "base_uri": "https://localhost:8080/",
          "height": 265
        }
      },
      "outputs": [
        {
          "output_type": "display_data",
          "data": {
            "text/plain": [
              "<Figure size 432x288 with 1 Axes>"
            ],
            "image/png": "[encoded data removed]"
          },
          "metadata": {
            "needs_background": "light"
          }
        }
      ],
      "source": [
        "plt.scatter(k1[0], k1[1],  color='black', marker='o', label='class 1')\n",
        "plt.scatter(k2[0], k2[1],  color='yellow', marker='o', label='class 2')\n",
        "#plt.axis('off')\n",
        "plt.show()\n"
      ]
    },
    {
      "cell_type": "code",
      "source": [
        "class AdaLineGD:\n",
        "    def __init__(self, eta=0.01, n_iter=100, random_state=1):\n",
        "        self.eta = eta\n",
        "        self.n_iter = n_iter\n",
        "        self.random_state = random_state\n",
        "\n",
        "    def fit(self, X, y):\n",
        "        rgen = np.random.RandomState(self.random_state)\n",
        "        self.w_ = rgen.normal(loc=0.0,scale=0.01, size= 1 + X.shape[1])\n",
        "        self.cost_ = []\n",
        "\n",
        "        for i in range(self.n_iter):\n",
        "            net_input = self.net_input(X)\n",
        "            output = self.activation(net_input)\n",
        "            errors = y - output\n",
        "            self.w_[1:] += self.eta * X.T.dot(errors)\n",
        "            self.w_[0] += self.eta * errors.sum()\n",
        "            cost = (errors**2).sum() / 2\n",
        "\n",
        "            self.cost_.append(cost)\n",
        "\n",
        "    def net_input(self, X):\n",
        "        return np.dot(X, self.w_[1:]) + self.w_[0] # w_[0] нейрон смещения\n",
        "    def activation(self, X):\n",
        "        return X\n",
        "        return 1.0 / (1.0 + np.exp(-X))\n",
        "    def predict(self, X):\n",
        "        return np.where(self.activation(self.net_input(X)) >= 0.0, 1, -1)\n"
      ],
      "metadata": {
        "id": "zIMlPDBg7Fv7"
      },
      "execution_count": 7,
      "outputs": []
    },
    {
      "cell_type": "code",
      "execution_count": 8,
      "metadata": {
        "id": "ea3fd262"
      },
      "outputs": [],
      "source": [
        "kg1 = k1.copy()\n",
        "kg2 = k2.copy()\n",
        "k1 = k1.T\n",
        "k2 = k2.T\n",
        "kg1 /= 100\n",
        "kg2 /= 100"
      ]
    },
    {
      "cell_type": "code",
      "execution_count": 9,
      "metadata": {
        "id": "5f6fb7c2"
      },
      "outputs": [],
      "source": [
        "X = np.zeros( (84,2) )\n",
        "X[:42] = k1\n",
        "X[42:] = k2\n",
        "X /= 100 \n"
      ]
    },
    {
      "cell_type": "code",
      "execution_count": 10,
      "metadata": {
        "scrolled": true,
        "id": "fb161bcd"
      },
      "outputs": [],
      "source": [
        "y = np.ones( (84), dtype=int )\n",
        "y[:42] = -1\n"
      ]
    },
    {
      "cell_type": "code",
      "execution_count": 11,
      "metadata": {
        "scrolled": false,
        "id": "e2f50fb0"
      },
      "outputs": [],
      "source": [
        "X_train, X_test, y_train, y_test = train_test_split(X, y, test_size = 0.02, random_state=1, stratify=y )\n"
      ]
    },
    {
      "cell_type": "code",
      "source": [
        "ada = AdaLineGD(eta=0.01, n_iter=400)\n",
        "ada.fit(X, y)"
      ],
      "metadata": {
        "id": "vFg2-B0W7oLw"
      },
      "execution_count": 23,
      "outputs": []
    },
    {
      "cell_type": "code",
      "source": [
        "plt.plot(range(1, len(ada.cost_) + 1), ada.cost_, marker='o')\n",
        "plt.show()"
      ],
      "metadata": {
        "colab": {
          "base_uri": "https://localhost:8080/",
          "height": 265
        },
        "id": "xvIoz62aPC0g",
        "outputId": "33047fde-3e10-496f-b817-6a9046bfaebd"
      },
      "execution_count": 24,
      "outputs": [
        {
          "output_type": "display_data",
          "data": {
            "text/plain": [
              "<Figure size 432x288 with 1 Axes>"
            ],
            "image/png": "[encoded data removed]"
          },
          "metadata": {
            "needs_background": "light"
          }
        }
      ]
    },
    {
      "cell_type": "code",
      "source": [
        "x1_min, x1_max = 0,1\n",
        "x2_min, x2_max = 0,1\n",
        "resol = 0.001\n",
        "\n",
        "cmap = ListedColormap(['black', 'yellow'])\n",
        "\n",
        "xx1, xx2 = np.meshgrid(\n",
        "                       np.arange(x1_min, x1_max, resol), \n",
        "                       np.arange(x2_min, x2_max, resol) \n",
        "                      )\n",
        "\n",
        "Z = ada.predict(\n",
        "                np.array([xx1.ravel(), xx2.ravel()] ).T\n",
        "                )\n",
        "Z = Z.reshape(xx1.shape)\n",
        "\n",
        "plt.contourf( xx1, xx2, Z, alpha=0.8, cmap=cmap )\n",
        "plt.scatter(kg1[0], kg1[1],  color='black', marker='o', label='class 1')\n",
        "plt.scatter(kg2[0], kg2[1],  color='orange', marker='o', label='class 2')\n",
        "#plt.axis('off')\n",
        "plt.show()"
      ],
      "metadata": {
        "colab": {
          "base_uri": "https://localhost:8080/",
          "height": 265
        },
        "id": "0oHIkdqFQY-X",
        "outputId": "81e81e89-8fc9-4aaf-8933-9c729a0f7bcd"
      },
      "execution_count": 25,
      "outputs": [
        {
          "output_type": "display_data",
          "data": {
            "text/plain": [
              "<Figure size 432x288 with 1 Axes>"
            ],
            "image/png": "[encoded data removed]"
          },
          "metadata": {
            "needs_background": "light"
          }
        }
      ]
    }
  ]
}