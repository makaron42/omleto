{
  "nbformat": 4,
  "nbformat_minor": 0,
  "metadata": {
    "colab": {
      "name": "Untitled0.ipynb",
      "provenance": []
    },
    "kernelspec": {
      "name": "python3",
      "display_name": "Python 3"
    },
    "language_info": {
      "name": "python"
    },
    "accelerator": "GPU",
    "gpuClass": "standard"
  },
  "cells": [
    {
      "cell_type": "code",
      "execution_count": 264,
      "metadata": {
        "id": "rUmpMraEwGER"
      },
      "outputs": [],
      "source": [
        "import numpy as np\n",
        "import matplotlib.pyplot as plt"
      ]
    },
    {
      "cell_type": "code",
      "source": [
        "from matplotlib.colors import ListedColormap"
      ],
      "metadata": {
        "id": "jezrLKtPwjQo"
      },
      "execution_count": 265,
      "outputs": []
    },
    {
      "cell_type": "code",
      "source": [
        "!pip install scikit-learn"
      ],
      "metadata": {
        "colab": {
          "base_uri": "https://localhost:8080/"
        },
        "id": "9IqYSsV_wlPK",
        "outputId": "0ba43ef1-1a49-4ff5-b5c8-c98ec7bf7069"
      },
      "execution_count": 266,
      "outputs": [
        {
          "output_type": "stream",
          "name": "stdout",
          "text": [
            "Looking in indexes: https://pypi.org/simple, https://us-python.pkg.dev/colab-wheels/public/simple/\n",
            "Requirement already satisfied: scikit-learn in /usr/local/lib/python3.7/dist-packages (1.0.2)\n",
            "Requirement already satisfied: scipy>=1.1.0 in /usr/local/lib/python3.7/dist-packages (from scikit-learn) (1.7.3)\n",
            "Requirement already satisfied: threadpoolctl>=2.0.0 in /usr/local/lib/python3.7/dist-packages (from scikit-learn) (3.1.0)\n",
            "Requirement already satisfied: numpy>=1.14.6 in /usr/local/lib/python3.7/dist-packages (from scikit-learn) (1.21.6)\n",
            "Requirement already satisfied: joblib>=0.11 in /usr/local/lib/python3.7/dist-packages (from scikit-learn) (1.1.0)\n"
          ]
        }
      ]
    },
    {
      "cell_type": "code",
      "source": [
        "from sklearn.model_selection import train_test_split"
      ],
      "metadata": {
        "id": "3uaGulmFwnJr"
      },
      "execution_count": 267,
      "outputs": []
    },
    {
      "cell_type": "code",
      "source": [
        "class AdaLineGD:\n",
        "    def __init__(self, eta=0.01, n_iter=100, random_state=1):\n",
        "        self.eta = eta\n",
        "        self.n_iter = n_iter\n",
        "        self.random_state = random_state\n",
        "\n",
        "    def fit(self, X, y):\n",
        "        rgen = np.random.RandomState(self.random_state)\n",
        "        self.w_ = rgen.normal(loc=0.0,scale=0.01, size= 1 + X.shape[1])\n",
        "        self.cost_ = []\n",
        "\n",
        "        for i in range(self.n_iter):\n",
        "            net_input = self.net_input(X)\n",
        "            output = self.activation(net_input)\n",
        "            errors = y - output\n",
        "            self.w_[1:] += self.eta * X.T.dot(errors)\n",
        "            self.w_[0] += self.eta * errors.sum()\n",
        "            cost = (errors**2).sum() / 2\n",
        "\n",
        "            self.cost_.append(cost)\n",
        "\n",
        "    def net_input(self, X):\n",
        "        return np.dot(X, self.w_[1:]) + self.w_[0] # w_[0] нейрон смещения\n",
        "    def activation(self, X):\n",
        "        return X\n",
        "        return 1.0 / (1.0 + np.exp(-X))\n",
        "    def predict(self, X):\n",
        "        return np.where(self.activation(self.net_input(X)) >= 0.0, 1, -1)"
      ],
      "metadata": {
        "id": "y8034-CawrUs"
      },
      "execution_count": 268,
      "outputs": []
    },
    {
      "cell_type": "code",
      "source": [
        "X = np.array([\n",
        "    [0,0,0],\n",
        "    [0,0,1],\n",
        "    [0,1,0],\n",
        "    [0,1,1],\n",
        "    [1,0,0],\n",
        "    [1,0,1],\n",
        "    [1,1,0],\n",
        "    [1,1,1],\n",
        "    \n",
        "    [0,0,-1],\n",
        "    [0,-1,0],\n",
        "    [0,-1,-1],\n",
        "    [-1,0,0],\n",
        "    [-1,0,-1],\n",
        "    [-1,-1,0],\n",
        "    [-1,-1,-1],\n",
        "    \n",
        "])\n",
        "X = np.where(X == -1, 2, X)\n",
        "X = np.where(X == 0, -1, X)\n",
        "y1 =  np.array([1,1,1,1, -1,-1,-1,-1,       1,1,1, -1,-1,-1,-1])\n",
        "\n",
        "y2 = np.array([1,1, -1,-1, 1,1, -1,-1, 1,   -1,-1, 1,1, -1,-1])\n",
        "\n",
        "y3 = np.array([1, -1, 1, -1, 1, -1, 1, -1,    -1, 1, -1, 1, -1, 1, -1])"
      ],
      "metadata": {
        "id": "vj-U147q1_3z"
      },
      "execution_count": 269,
      "outputs": []
    },
    {
      "cell_type": "code",
      "source": [
        "X_train1, X_test1, y_train1, y_test1 = train_test_split(\n",
        "    X, y1, test_size=0.2, random_state=1, stratify=y1\n",
        ")\n",
        "X_train2, X_test2, y_train2, y_test2 = train_test_split(\n",
        "    X, y2, test_size=0.2, random_state=1, stratify=y2\n",
        ")\n",
        "X_train3, X_test3, y_train3, y_test3 = train_test_split(\n",
        "    X, y3, test_size=0.2, random_state=1, stratify=y3\n",
        ")"
      ],
      "metadata": {
        "id": "oDI-dEXs201U"
      },
      "execution_count": 270,
      "outputs": []
    },
    {
      "cell_type": "code",
      "source": [
        "ada1 = AdaLineGD(eta=0.01, n_iter=30, random_state=1)\n",
        "ada2 = AdaLineGD(eta=0.01, n_iter=30, random_state=1)\n",
        "ada3 = AdaLineGD(eta=0.01, n_iter=30, random_state=1)"
      ],
      "metadata": {
        "id": "0mDrct-j4E9N"
      },
      "execution_count": 271,
      "outputs": []
    },
    {
      "cell_type": "code",
      "source": [
        "ada1.fit(X_train1, y_train1)\n",
        "\n",
        "plt.plot(range(1, len(ada1.cost_)+1), ada1.cost_, marker='o')\n",
        "plt.show"
      ],
      "metadata": {
        "colab": {
          "base_uri": "https://localhost:8080/",
          "height": 282
        },
        "id": "tvWwp3604gjN",
        "outputId": "ff048314-3ff3-46db-ae6b-a7a4784b4af1"
      },
      "execution_count": 272,
      "outputs": [
        {
          "output_type": "execute_result",
          "data": {
            "text/plain": [
              "<function matplotlib.pyplot.show>"
            ]
          },
          "metadata": {},
          "execution_count": 272
        },
        {
          "output_type": "display_data",
          "data": {
            "text/plain": [
              "<Figure size 432x288 with 1 Axes>"
            ],
            "image/png": "[encoded data removed]"
          },
          "metadata": {
            "needs_background": "light"
          }
        }
      ]
    },
    {
      "cell_type": "code",
      "source": [
        "ada2.fit(X_train2, y_train2)\n",
        "\n",
        "plt.plot(range(1, len(ada2.cost_)+1), ada2.cost_, marker='o')\n",
        "plt.show"
      ],
      "metadata": {
        "colab": {
          "base_uri": "https://localhost:8080/",
          "height": 282
        },
        "id": "tu2R7HEn5siV",
        "outputId": "091a0f53-b220-4687-89e5-3f919ea9df1e"
      },
      "execution_count": 273,
      "outputs": [
        {
          "output_type": "execute_result",
          "data": {
            "text/plain": [
              "<function matplotlib.pyplot.show>"
            ]
          },
          "metadata": {},
          "execution_count": 273
        },
        {
          "output_type": "display_data",
          "data": {
            "text/plain": [
              "<Figure size 432x288 with 1 Axes>"
            ],
            "image/png": "[encoded data removed]"
          },
          "metadata": {
            "needs_background": "light"
          }
        }
      ]
    },
    {
      "cell_type": "code",
      "source": [
        "ada3.fit(X_train3, y_train3)\n",
        "\n",
        "plt.plot(range(1, len(ada3.cost_)+1), ada3.cost_, marker='o')\n",
        "plt.show"
      ],
      "metadata": {
        "colab": {
          "base_uri": "https://localhost:8080/",
          "height": 282
        },
        "id": "LUnm4gyf5sx9",
        "outputId": "aedef301-8496-4767-f6c2-5f3fac23bdd6"
      },
      "execution_count": 274,
      "outputs": [
        {
          "output_type": "execute_result",
          "data": {
            "text/plain": [
              "<function matplotlib.pyplot.show>"
            ]
          },
          "metadata": {},
          "execution_count": 274
        },
        {
          "output_type": "display_data",
          "data": {
            "text/plain": [
              "<Figure size 432x288 with 1 Axes>"
            ],
            "image/png": "[encoded data removed]"
          },
          "metadata": {
            "needs_background": "light"
          }
        }
      ]
    },
    {
      "cell_type": "code",
      "source": [
        "X_win = np.array([\n",
        "                  [0,0,0], # -\n",
        "                  [0,0,0], # -\n",
        "                  [0,0,0], # -\n",
        "\n",
        "                  [0,0,0], # -\n",
        "                  [0,0,1], # -\n",
        "                  [0,1,0], # -\n",
        "                  [0,1,1], # +\n",
        "                  [1,0,0], # -\n",
        "                  [1,0,1], # +\n",
        "                  [1,1,0], # +\n",
        "                  \n",
        "                  [0,0,-1], # -\n",
        "                  [0,-1,0], # -\n",
        "                  [0,-1,-1], # -\n",
        "                  #[-1,0,0], # -\n",
        "                  #[-1,0,-1], # -\n",
        "                  [-1,-1,0], # -\n",
        "\n",
        "                  [0,1,1], # +\n",
        "                  #[1,0,1], # +\n",
        "                  [1,1,0], # +\n",
        "                  [0,1,1], # +\n",
        "                  #[1,0,1], # +\n",
        "                  [1,1,0], # +\n",
        "])\n",
        "\n",
        "X_win = np.where(X_win == -1, 10, X_win)\n",
        "X_win = np.where(X_win == 0, -1, X_win)\n",
        "\n",
        "y_win = np.array([\n",
        "                  -1,-1,-1,\n",
        "                  -1,-1,-1,\n",
        "                  1,\n",
        "                  -1,\n",
        "                  1, 1, \n",
        "                 -1,-1,-1,-1,#-1,-1,\n",
        "                  1, 1, 1, 1, #1, 1\n",
        "                  ])\n",
        "\n",
        "X_win.shape[0] == y_win.shape[0]"
      ],
      "metadata": {
        "colab": {
          "base_uri": "https://localhost:8080/"
        },
        "id": "4nvg40cI7BX9",
        "outputId": "cde13b89-df7f-4e39-b72a-34917652b61e"
      },
      "execution_count": 275,
      "outputs": [
        {
          "output_type": "execute_result",
          "data": {
            "text/plain": [
              "True"
            ]
          },
          "metadata": {},
          "execution_count": 275
        }
      ]
    },
    {
      "cell_type": "code",
      "source": [
        "X_train_win, X_test_win, y_train_win, y_test_win = train_test_split(\n",
        "    X_win, y_win, test_size=0.2, random_state=1, stratify=y_win\n",
        ")"
      ],
      "metadata": {
        "id": "WVweqVu4JNSC"
      },
      "execution_count": 276,
      "outputs": []
    },
    {
      "cell_type": "code",
      "source": [
        "ada_win = AdaLineGD(eta=0.001, n_iter=100, random_state=1)"
      ],
      "metadata": {
        "id": "tZUmyGC5JmgA"
      },
      "execution_count": 277,
      "outputs": []
    },
    {
      "cell_type": "code",
      "source": [
        "ada_win.fit(X_train_win, y_train_win)\n",
        "\n",
        "plt.plot(range(1, len(ada_win.cost_)+1), ada_win.cost_, marker='o')\n",
        "plt.show"
      ],
      "metadata": {
        "colab": {
          "base_uri": "https://localhost:8080/",
          "height": 282
        },
        "id": "AeizolNoJpkj",
        "outputId": "1fa6e24e-bb5c-4c9d-d56f-642dfde48b8f"
      },
      "execution_count": 278,
      "outputs": [
        {
          "output_type": "execute_result",
          "data": {
            "text/plain": [
              "<function matplotlib.pyplot.show>"
            ]
          },
          "metadata": {},
          "execution_count": 278
        },
        {
          "output_type": "display_data",
          "data": {
            "text/plain": [
              "<Figure size 432x288 with 1 Axes>"
            ],
            "image/png": "[encoded data removed]"
          },
          "metadata": {
            "needs_background": "light"
          }
        }
      ]
    }
  ]
}