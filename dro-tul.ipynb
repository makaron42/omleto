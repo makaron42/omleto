{
 "cells": [
  {
   "cell_type": "code",
   "execution_count": 9,
   "metadata": {},
   "outputs": [],
   "source": [
    "import cv2 \n",
    "import numpy as np"
   ]
  },
  {
   "cell_type": "code",
   "execution_count": 10,
   "metadata": {},
   "outputs": [],
   "source": [
    "def grid(cnv, xstep, ystep, clr=(0, 0, 0)):\n",
    "    cnv[::ystep, :] = clr\n",
    "    cnv[:, ::xstep] = clr"
   ]
  },
  {
   "cell_type": "code",
   "execution_count": 11,
   "metadata": {},
   "outputs": [],
   "source": [
    "def draw(event, x, y, flags, param):\n",
    "    x_ = x // 20\n",
    "    y_ = y // 20\n",
    "    \n",
    "    x = x - x%20 + 1\n",
    "    y = y - y%20 + 1\n",
    "    \n",
    "    try:\n",
    "        if flags == 1:\n",
    "            cnv[y:19+y, x:x+19] = (0, 0, 0)\n",
    "            X_in[y_, x_] = 255\n",
    "        elif flags == 2:\n",
    "            cnv[y:19+y, x:x+19] = (255, 255, 255)\n",
    "            X_in[y_, x_] = 0\n",
    "    except:\n",
    "        pass"
   ]
  },
  {
   "cell_type": "code",
   "execution_count": 12,
   "metadata": {},
   "outputs": [],
   "source": [
    "X_in = np.zeros((28, 28), dtype=np.uint8()) \n",
    "cnv = np.ones((560, 560, 3), dtype=np.uint8()) * 255\n",
    "\n",
    "grid(cnv, 20, 20, (100, 200, 0))\n",
    "\n",
    "cv2.namedWindow('cnv')\n",
    "cv2.setMouseCallback('cnv', draw)\n",
    "while True:\n",
    "    cv2.imshow('cnv', cnv)\n",
    "    if cv2.waitKey(1) == 27:\n",
    "        break\n",
    "cv2.destroyAllWindows()    "
   ]
  },
  {
   "cell_type": "code",
   "execution_count": null,
   "metadata": {},
   "outputs": [],
   "source": []
  },
  {
   "cell_type": "code",
   "execution_count": null,
   "metadata": {},
   "outputs": [],
   "source": []
  }
 ],
 "metadata": {
  "interpreter": {
   "hash": "4aca860ff88a36166c47b9a40d7585e7a74556f01fdc7d6d44616d47d558a926"
  },
  "kernelspec": {
   "display_name": "Python 3.10.2 ('venv': venv)",
   "language": "python",
   "name": "python3"
  },
  "language_info": {
   "codemirror_mode": {
    "name": "ipython",
    "version": 3
   },
   "file_extension": ".py",
   "mimetype": "text/x-python",
   "name": "python",
   "nbconvert_exporter": "python",
   "pygments_lexer": "ipython3",
   "version": "3.10.2"
  }
 },
 "nbformat": 4,
 "nbformat_minor": 2
}
